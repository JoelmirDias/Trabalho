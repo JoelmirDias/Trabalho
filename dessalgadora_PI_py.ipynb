{
  "cells": [
    {
      "cell_type": "markdown",
      "metadata": {
        "id": "view-in-github",
        "colab_type": "text"
      },
      "source": [
        "<a href=\"https://colab.research.google.com/github/JoelmirDias/Trabalho/blob/main/dessalgadora_PI_py.ipynb\" target=\"_parent\"><img src=\"https://colab.research.google.com/assets/colab-badge.svg\" alt=\"Open In Colab\"/></a>"
      ]
    },
    {
      "cell_type": "code",
      "execution_count": 1,
      "metadata": {
        "id": "rDtSmrWt6hWP"
      },
      "outputs": [],
      "source": [
        "import pandas as pd\n",
        "import joblib\n",
        "import sys\n",
        "import warnings\n",
        "warnings.filterwarnings('ignore')"
      ]
    },
    {
      "cell_type": "code",
      "execution_count": null,
      "metadata": {
        "id": "VDz7Jxut2I-e"
      },
      "outputs": [],
      "source": [
        "#!pip install pythonnet"
      ]
    },
    {
      "cell_type": "code",
      "execution_count": null,
      "metadata": {
        "id": "cJ6RjSxS2I-f"
      },
      "outputs": [],
      "source": [
        "sys.path.append(r'C:\\Program Files (x86)\\PIPC\\AF\\PublicAssemblies\\4.0')\n",
        "\n",
        "import clr\n",
        "clr.AddReference('OSIsoft.AFSDK')\n",
        "\n",
        "from OSIsoft.AF.PI import PIServers, PIPoint\n",
        "from OSIsoft.AF.Time import AFTime\n",
        "from OSIsoft.AF.Asset import AFValue\n",
        "from OSIsoft.AF import Data"
      ]
    },
    {
      "cell_type": "code",
      "execution_count": null,
      "metadata": {
        "id": "BXPdgDCV2I-g"
      },
      "outputs": [],
      "source": [
        "def connect_to_Server(serverName):\n",
        "    piServers = PIServers()\n",
        "    global piServer\n",
        "    piServer = piServers[serverName]\n",
        "    piServer.Connect(False)"
      ]
    },
    {
      "cell_type": "code",
      "execution_count": null,
      "metadata": {
        "id": "NlBZHpTX2I-h"
      },
      "outputs": [],
      "source": [
        "def get_tag_snapshot(tagname):\n",
        "    tag = PIPoint.FindPIPoint(piServer, tagname)\n",
        "    lastData = tag.Snapshot()\n",
        "    return lastData.Value, lastData.Timestamp"
      ]
    },
    {
      "cell_type": "code",
      "execution_count": null,
      "metadata": {
        "id": "V8-DCx7u2I-i"
      },
      "outputs": [],
      "source": [
        "def put_tag_snapshot(tagname, valor):\n",
        "    PIValue = AFValue()\n",
        "    PIValue.Value = valor\n",
        "    PIValue.Timestamp = AFTime().Now\n",
        "    tag = PIPoint.FindPIPoint(piServer, tagname)\n",
        "    tag.UpdateValue(PIValue, Data.AFUpdateOption.Replace)"
      ]
    },
    {
      "cell_type": "code",
      "execution_count": null,
      "metadata": {
        "id": "g4L09KbC2I-j"
      },
      "outputs": [],
      "source": [
        "TAGS={'SALMOURA':'MOB20501',\n",
        "      'TI20604':'TI20604',\n",
        "      'TI20605':'TI20605',\n",
        "      'Carga':'FIC20667',\n",
        "      'Densidade':'DENS_U200A_INST',\n",
        "      'POLI':'MOB20504',\n",
        "      'DESEM':'MOB20505',\n",
        "      'pH':'20SAPHP87',\n",
        "      'LIC20506A':'LIC20506A',\n",
        "      'LIC20506B':'LIC20506B',\n",
        "      'LIC20506C':'LIC20506C',\n",
        "      'LIC20506D':'LIC20506D',\n",
        "      'PDI20632':'PDI20632',\n",
        "      'PDI20633':'PDI20633',\n",
        "      'PDI20502':'PDI20502',\n",
        "      'PDI20504':'PDI20504'}"
      ]
    },
    {
      "cell_type": "code",
      "execution_count": null,
      "metadata": {
        "id": "XJLWWeaV2I-k",
        "outputId": "630ce49b-8ac0-4c5d-e8d4-de0e2a70a46c"
      },
      "outputs": [
        {
          "data": {
            "text/html": [
              "<div>\n",
              "<style scoped>\n",
              "    .dataframe tbody tr th:only-of-type {\n",
              "        vertical-align: middle;\n",
              "    }\n",
              "\n",
              "    .dataframe tbody tr th {\n",
              "        vertical-align: top;\n",
              "    }\n",
              "\n",
              "    .dataframe thead th {\n",
              "        text-align: right;\n",
              "    }\n",
              "</style>\n",
              "<table border=\"1\" class=\"dataframe\">\n",
              "  <thead>\n",
              "    <tr style=\"text-align: right;\">\n",
              "      <th></th>\n",
              "      <th>SALMOURA</th>\n",
              "      <th>TI20604</th>\n",
              "      <th>TI20605</th>\n",
              "      <th>Carga</th>\n",
              "      <th>Densidade</th>\n",
              "      <th>POLI</th>\n",
              "      <th>DESEM</th>\n",
              "      <th>pH</th>\n",
              "      <th>LIC20506A</th>\n",
              "      <th>LIC20506B</th>\n",
              "      <th>LIC20506C</th>\n",
              "      <th>LIC20506D</th>\n",
              "      <th>PDI20632</th>\n",
              "      <th>PDI20633</th>\n",
              "      <th>PDI20502</th>\n",
              "      <th>PDI20504</th>\n",
              "    </tr>\n",
              "  </thead>\n",
              "  <tbody>\n",
              "    <tr>\n",
              "      <th>0</th>\n",
              "      <td>CLARA</td>\n",
              "      <td>142.6642</td>\n",
              "      <td>146.761</td>\n",
              "      <td>32022.27</td>\n",
              "      <td>0.902825</td>\n",
              "      <td>INJETA</td>\n",
              "      <td>INJETA</td>\n",
              "      <td>5.2</td>\n",
              "      <td>37.18528</td>\n",
              "      <td>32.92275</td>\n",
              "      <td>55.34066</td>\n",
              "      <td>54.41355</td>\n",
              "      <td>1.137531</td>\n",
              "      <td>1.08813</td>\n",
              "      <td>0.950132</td>\n",
              "      <td>1.117027</td>\n",
              "    </tr>\n",
              "  </tbody>\n",
              "</table>\n",
              "</div>"
            ],
            "text/plain": [
              "  SALMOURA   TI20604  TI20605     Carga  Densidade    POLI   DESEM   pH  \\\n",
              "0    CLARA  142.6642  146.761  32022.27   0.902825  INJETA  INJETA  5.2   \n",
              "\n",
              "   LIC20506A  LIC20506B  LIC20506C  LIC20506D  PDI20632  PDI20633  PDI20502  \\\n",
              "0   37.18528   32.92275   55.34066   54.41355  1.137531   1.08813  0.950132   \n",
              "\n",
              "   PDI20504  \n",
              "0  1.117027  "
            ]
          },
          "execution_count": 8,
          "metadata": {},
          "output_type": "execute_result"
        }
      ],
      "source": [
        "connect_to_Server('S270RAS22')\n",
        "nomes=[]\n",
        "valores=[]\n",
        "dados=pd.DataFrame\n",
        "for i in TAGS:\n",
        "    nomes.append(i)\n",
        "    valor, timestamp = get_tag_snapshot(TAGS[i])\n",
        "    valores.append(valor)\n",
        "dicionario_dados = dict(zip(nomes, valores))\n",
        "dados=pd.DataFrame([dicionario_dados])"
      ]
    },
    {
      "cell_type": "markdown",
      "metadata": {
        "id": "BHMORjqC2I-n"
      },
      "source": [
        "## Inicio da condicional"
      ]
    },
    {
      "cell_type": "code",
      "execution_count": null,
      "metadata": {
        "id": "0ovrxUhb2I-p"
      },
      "outputs": [],
      "source": [
        "if dados['SALMOURA'][0]!='CLARA':\n",
        "    calibra=pd.read_excel('Dados_Exporta.xlsx')\n",
        "    calibra=pd.concat([calibra,dados]).reset_index().drop(columns='index')"
      ]
    },
    {
      "cell_type": "code",
      "execution_count": 2,
      "metadata": {
        "id": "reRxQyfe2I-q"
      },
      "outputs": [],
      "source": [
        "calibra=pd.read_excel('Dados_Exporta.xlsx')"
      ]
    },
    {
      "cell_type": "code",
      "execution_count": 3,
      "metadata": {
        "id": "4NE31PYM2I-q"
      },
      "outputs": [],
      "source": [
        "from imblearn.combine import SMOTETomek\n",
        "from sklearn.ensemble import RandomForestClassifier\n",
        "from sklearn.model_selection import KFold\n",
        "from sklearn.model_selection import GridSearchCV\n",
        "import pickle"
      ]
    },
    {
      "cell_type": "code",
      "execution_count": 4,
      "metadata": {
        "id": "nxgt5Vxc2I-s"
      },
      "outputs": [],
      "source": [
        "cat_vars=['POLI','DESEM']\n",
        "for var in cat_vars:\n",
        "  cat_list = pd.get_dummies(calibra[var], prefix=var)\n",
        "  calibra = calibra.join(cat_list)"
      ]
    },
    {
      "cell_type": "code",
      "execution_count": 5,
      "metadata": {
        "id": "53YhmOZy2I-s"
      },
      "outputs": [],
      "source": [
        "Arraste=[]\n",
        "for i in range(len(calibra['SALMOURA'])):\n",
        "  if calibra['SALMOURA'][i]=='CLARA':\n",
        "    Arraste.append(0)\n",
        "  elif calibra['SALMOURA'][i]=='TURVA':\n",
        "    Arraste.append(1)\n",
        "  else:\n",
        "    Arraste.append(2)\n",
        "calibra['Arraste']=Arraste"
      ]
    },
    {
      "cell_type": "code",
      "execution_count": 6,
      "metadata": {
        "id": "B2HPrhgC2I-s"
      },
      "outputs": [],
      "source": [
        "calibra.drop(columns=['SALMOURA','POLI','DESEM','DESEM_NÃO INJETA','POLI_NÃO INJETA' ], inplace=True)"
      ]
    },
    {
      "cell_type": "code",
      "execution_count": 7,
      "metadata": {
        "id": "tREypONG2I-t"
      },
      "outputs": [],
      "source": [
        "X = calibra.drop(columns='Arraste')\n",
        "y = calibra.Arraste"
      ]
    },
    {
      "cell_type": "code",
      "execution_count": 8,
      "metadata": {
        "id": "k_nTAaZO2I-u"
      },
      "outputs": [],
      "source": [
        "smtom = SMOTETomek(sampling_strategy='all')\n",
        "x_smtm, y_smtm = smtom.fit_resample(X, y)"
      ]
    },
    {
      "cell_type": "code",
      "execution_count": 9,
      "metadata": {
        "colab": {
          "base_uri": "https://localhost:8080/"
        },
        "id": "pIO989Hy2I-v",
        "outputId": "7744d8a4-4f1e-4277-eda3-28ca506d8c1f"
      },
      "outputs": [
        {
          "output_type": "execute_result",
          "data": {
            "text/plain": [
              "GridSearchCV(cv=KFold(n_splits=5, random_state=1, shuffle=True),\n",
              "             estimator=RandomForestClassifier(),\n",
              "             param_grid={'max_features': [5.0, 'sqrt', 'log2', 'auto'],\n",
              "                         'min_samples_leaf': [1, 10, 30],\n",
              "                         'n_estimators': [50, 100, 300]},\n",
              "             scoring='accuracy')"
            ]
          },
          "metadata": {},
          "execution_count": 9
        }
      ],
      "source": [
        "crossvalidation=KFold(n_splits=5, shuffle=True, random_state=1)\n",
        "scorer='accuracy'\n",
        "max_features=[x_smtm.shape[1]/3, 'sqrt','log2','auto']\n",
        "min_samples_leaf=[1,10,30]\n",
        "n_estimators=[50,100,300]\n",
        "search_grid= {'n_estimators':n_estimators,'max_features': max_features,'min_samples_leaf':min_samples_leaf}\n",
        "RF = RandomForestClassifier()\n",
        "melhor_modelo=GridSearchCV(estimator=RF,\n",
        "                         param_grid=search_grid,\n",
        "                         scoring=scorer,\n",
        "                         cv=crossvalidation)\n",
        "melhor_modelo.fit(x_smtm,y_smtm)"
      ]
    },
    {
      "cell_type": "code",
      "execution_count": 10,
      "metadata": {
        "colab": {
          "base_uri": "https://localhost:8080/",
          "height": 296
        },
        "id": "OpjeOxjj2I-v",
        "outputId": "dd921685-af7e-4bf1-939f-c75ebd4efa07"
      },
      "outputs": [
        {
          "output_type": "execute_result",
          "data": {
            "text/plain": [
              "<sklearn.metrics._plot.confusion_matrix.ConfusionMatrixDisplay at 0x7f6a821f0890>"
            ]
          },
          "metadata": {},
          "execution_count": 10
        },
        {
          "output_type": "display_data",
          "data": {
            "text/plain": [
              "<Figure size 432x288 with 2 Axes>"
            ],
            "image/png": "[encoded data removed]"
          },
          "metadata": {
            "needs_background": "light"
          }
        }
      ],
      "source": [
        "from sklearn.metrics import confusion_matrix as cm\n",
        "from sklearn.metrics import ConfusionMatrixDisplay\n",
        "y_predrealRF=melhor_modelo.predict(X)\n",
        "mc_realRF=cm(y, y_predrealRF)\n",
        "mcdrealRF=ConfusionMatrixDisplay(mc_realRF, display_labels=['CLARA','TURVA','ESCURA'])\n",
        "mcdrealRF.plot()"
      ]
    },
    {
      "cell_type": "code",
      "execution_count": 11,
      "metadata": {
        "id": "y0SqlDA22I-w"
      },
      "outputs": [],
      "source": [
        "with open('dessalgadora.pkl', 'wb') as file:\n",
        "    pickle.dump(melhor_modelo, file)"
      ]
    },
    {
      "cell_type": "markdown",
      "metadata": {
        "id": "xEhJxlxX2I-x"
      },
      "source": [
        "## Fim da condicional"
      ]
    },
    {
      "cell_type": "code",
      "execution_count": null,
      "metadata": {
        "id": "6OG8Dqxd6rGV"
      },
      "outputs": [],
      "source": [
        "if dados['POLI'][0]=='INJETA':\n",
        "  dados['POLI_INJETA']=1\n",
        "else:\n",
        "  dados['POLI_INJETA']=0\n",
        "\n",
        "if dados['DESEM'][0]=='INJETA':\n",
        "  dados['DESEM_INJETA']=1\n",
        "else:\n",
        "  dados['DESEM_INJETA']=0"
      ]
    },
    {
      "cell_type": "code",
      "execution_count": null,
      "metadata": {
        "id": "pEFMKMCb61KJ"
      },
      "outputs": [],
      "source": [
        "dados.drop(columns=['POLI','DESEM','SALMOURA' ], inplace=True)"
      ]
    },
    {
      "cell_type": "code",
      "execution_count": null,
      "metadata": {
        "id": "xg_eyoDI7Kl6"
      },
      "outputs": [],
      "source": [
        "# Carregar modelo\n",
        "modelo = joblib.load('dessalgadora.pkl')"
      ]
    },
    {
      "cell_type": "code",
      "execution_count": null,
      "metadata": {
        "id": "CKd4q3267U8_"
      },
      "outputs": [],
      "source": [
        "ycalc=modelo.predict(dados)"
      ]
    },
    {
      "cell_type": "code",
      "execution_count": null,
      "metadata": {
        "id": "24gDmmT07hDj"
      },
      "outputs": [],
      "source": [
        "status=int(ycalc[0])"
      ]
    },
    {
      "cell_type": "code",
      "execution_count": null,
      "metadata": {
        "id": "mMhBuq-T2I-1",
        "outputId": "e768a68d-784e-4cf5-b928-a685a3be9ae4"
      },
      "outputs": [
        {
          "data": {
            "text/plain": [
              "0"
            ]
          },
          "execution_count": 47,
          "metadata": {},
          "output_type": "execute_result"
        }
      ],
      "source": [
        "status"
      ]
    },
    {
      "cell_type": "code",
      "execution_count": null,
      "metadata": {
        "id": "nX2D2Hk22I-2"
      },
      "outputs": [],
      "source": [
        "put_tag_snapshot('U200A_PREDICAO_SALMOURA', status)"
      ]
    },
    {
      "cell_type": "code",
      "execution_count": null,
      "metadata": {
        "id": "46jEGbBp2I-2"
      },
      "outputs": [],
      "source": [
        ""
      ]
    }
  ],
  "metadata": {
    "colab": {
      "collapsed_sections": [],
      "name": "dessalgadora_PI_py.ipynb",
      "provenance": [],
      "include_colab_link": true
    },
    "kernelspec": {
      "display_name": "Python 3",
      "language": "python",
      "name": "python3"
    },
    "language_info": {
      "codemirror_mode": {
        "name": "ipython",
        "version": 3
      },
      "file_extension": ".py",
      "mimetype": "text/x-python",
      "name": "python",
      "nbconvert_exporter": "python",
      "pygments_lexer": "ipython3",
      "version": "3.8.3"
    }
  },
  "nbformat": 4,
  "nbformat_minor": 0
}