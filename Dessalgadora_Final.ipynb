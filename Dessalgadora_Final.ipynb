{
  "nbformat": 4,
  "nbformat_minor": 0,
  "metadata": {
    "colab": {
      "name": "Dessalgadora_Final.ipynb",
      "provenance": [],
      "authorship_tag": "ABX9TyPIH+L2TEXuQtYtK46MFDxG",
      "include_colab_link": true
    },
    "kernelspec": {
      "name": "python3",
      "display_name": "Python 3"
    },
    "language_info": {
      "name": "python"
    }
  },
  "cells": [
    {
      "cell_type": "markdown",
      "metadata": {
        "id": "view-in-github",
        "colab_type": "text"
      },
      "source": [
        "<a href=\"https://colab.research.google.com/github/JoelmirDias/Trabalho/blob/main/Dessalgadora_Final.ipynb\" target=\"_parent\"><img src=\"https://colab.research.google.com/assets/colab-badge.svg\" alt=\"Open In Colab\"/></a>"
      ]
    },
    {
      "cell_type": "markdown",
      "source": [
        "## Modelo de arraste da dessalgadora da U200A"
      ],
      "metadata": {
        "id": "OWneQQPDWQBS"
      }
    },
    {
      "cell_type": "code",
      "source": [
        "! pip install https://github.com/pandas-profiling/pandas-profiling/archive/master.zip "
      ],
      "metadata": {
        "colab": {
          "base_uri": "https://localhost:8080/"
        },
        "id": "SCu5ssmbWWZF",
        "outputId": "7bb5817a-380e-40f6-a1db-f5b68c0a99a9"
      },
      "execution_count": 1,
      "outputs": [
        {
          "output_type": "stream",
          "name": "stdout",
          "text": [
            "Looking in indexes: https://pypi.org/simple, https://us-python.pkg.dev/colab-wheels/public/simple/\n",
            "Collecting https://github.com/pandas-profiling/pandas-profiling/archive/master.zip\n",
            "  Downloading https://github.com/pandas-profiling/pandas-profiling/archive/master.zip (21.9 MB)\n",
            "\u001b[K     |████████████████████████████████| 21.9 MB 73.3 MB/s \n",
            "\u001b[?25hRequirement already satisfied: joblib~=1.1.0 in /usr/local/lib/python3.7/dist-packages (from pandas-profiling==3.2.0) (1.1.0)\n",
            "Requirement already satisfied: scipy>=1.4.1 in /usr/local/lib/python3.7/dist-packages (from pandas-profiling==3.2.0) (1.7.3)\n",
            "Requirement already satisfied: pandas!=1.0.0,!=1.0.1,!=1.0.2,!=1.1.0,>=0.25.3 in /usr/local/lib/python3.7/dist-packages (from pandas-profiling==3.2.0) (1.3.5)\n",
            "Requirement already satisfied: matplotlib>=3.2.0 in /usr/local/lib/python3.7/dist-packages (from pandas-profiling==3.2.0) (3.2.2)\n",
            "Requirement already satisfied: pydantic>=1.8.1 in /usr/local/lib/python3.7/dist-packages (from pandas-profiling==3.2.0) (1.9.2)\n",
            "Requirement already satisfied: PyYAML>=5.0.0 in /usr/local/lib/python3.7/dist-packages (from pandas-profiling==3.2.0) (6.0)\n",
            "Requirement already satisfied: jinja2>=2.11.1 in /usr/local/lib/python3.7/dist-packages (from pandas-profiling==3.2.0) (2.11.3)\n",
            "Collecting visions[type_image_path]==0.7.5\n",
            "  Downloading visions-0.7.5-py3-none-any.whl (102 kB)\n",
            "\u001b[K     |████████████████████████████████| 102 kB 35.4 MB/s \n",
            "\u001b[?25hRequirement already satisfied: numpy>=1.16.0 in /usr/local/lib/python3.7/dist-packages (from pandas-profiling==3.2.0) (1.21.6)\n",
            "Collecting htmlmin>=0.1.12\n",
            "  Downloading htmlmin-0.1.12.tar.gz (19 kB)\n",
            "Requirement already satisfied: missingno>=0.4.2 in /usr/local/lib/python3.7/dist-packages (from pandas-profiling==3.2.0) (0.5.1)\n",
            "Collecting phik>=0.11.1\n",
            "  Downloading phik-0.12.2-cp37-cp37m-manylinux_2_17_x86_64.manylinux2014_x86_64.whl (690 kB)\n",
            "\u001b[K     |████████████████████████████████| 690 kB 43.5 MB/s \n",
            "\u001b[?25hCollecting tangled-up-in-unicode==0.2.0\n",
            "  Downloading tangled_up_in_unicode-0.2.0-py3-none-any.whl (4.7 MB)\n",
            "\u001b[K     |████████████████████████████████| 4.7 MB 49.3 MB/s \n",
            "\u001b[?25hCollecting requests>=2.24.0\n",
            "  Downloading requests-2.28.1-py3-none-any.whl (62 kB)\n",
            "\u001b[K     |████████████████████████████████| 62 kB 1.5 MB/s \n",
            "\u001b[?25hRequirement already satisfied: tqdm>=4.48.2 in /usr/local/lib/python3.7/dist-packages (from pandas-profiling==3.2.0) (4.64.0)\n",
            "Requirement already satisfied: seaborn>=0.10.1 in /usr/local/lib/python3.7/dist-packages (from pandas-profiling==3.2.0) (0.11.2)\n",
            "Collecting multimethod>=1.4\n",
            "  Downloading multimethod-1.8-py3-none-any.whl (9.8 kB)\n",
            "Requirement already satisfied: attrs>=19.3.0 in /usr/local/lib/python3.7/dist-packages (from visions[type_image_path]==0.7.5->pandas-profiling==3.2.0) (22.1.0)\n",
            "Requirement already satisfied: networkx>=2.4 in /usr/local/lib/python3.7/dist-packages (from visions[type_image_path]==0.7.5->pandas-profiling==3.2.0) (2.6.3)\n",
            "Requirement already satisfied: Pillow in /usr/local/lib/python3.7/dist-packages (from visions[type_image_path]==0.7.5->pandas-profiling==3.2.0) (7.1.2)\n",
            "Collecting imagehash\n",
            "  Downloading ImageHash-4.2.1.tar.gz (812 kB)\n",
            "\u001b[K     |████████████████████████████████| 812 kB 65.3 MB/s \n",
            "\u001b[?25hRequirement already satisfied: MarkupSafe>=0.23 in /usr/local/lib/python3.7/dist-packages (from jinja2>=2.11.1->pandas-profiling==3.2.0) (2.0.1)\n",
            "Requirement already satisfied: cycler>=0.10 in /usr/local/lib/python3.7/dist-packages (from matplotlib>=3.2.0->pandas-profiling==3.2.0) (0.11.0)\n",
            "Requirement already satisfied: python-dateutil>=2.1 in /usr/local/lib/python3.7/dist-packages (from matplotlib>=3.2.0->pandas-profiling==3.2.0) (2.8.2)\n",
            "Requirement already satisfied: pyparsing!=2.0.4,!=2.1.2,!=2.1.6,>=2.0.1 in /usr/local/lib/python3.7/dist-packages (from matplotlib>=3.2.0->pandas-profiling==3.2.0) (3.0.9)\n",
            "Requirement already satisfied: kiwisolver>=1.0.1 in /usr/local/lib/python3.7/dist-packages (from matplotlib>=3.2.0->pandas-profiling==3.2.0) (1.4.4)\n",
            "Requirement already satisfied: typing-extensions in /usr/local/lib/python3.7/dist-packages (from kiwisolver>=1.0.1->matplotlib>=3.2.0->pandas-profiling==3.2.0) (4.1.1)\n",
            "Requirement already satisfied: pytz>=2017.3 in /usr/local/lib/python3.7/dist-packages (from pandas!=1.0.0,!=1.0.1,!=1.0.2,!=1.1.0,>=0.25.3->pandas-profiling==3.2.0) (2022.2.1)\n",
            "Requirement already satisfied: six>=1.5 in /usr/local/lib/python3.7/dist-packages (from python-dateutil>=2.1->matplotlib>=3.2.0->pandas-profiling==3.2.0) (1.15.0)\n",
            "Requirement already satisfied: charset-normalizer<3,>=2 in /usr/local/lib/python3.7/dist-packages (from requests>=2.24.0->pandas-profiling==3.2.0) (2.1.0)\n",
            "Requirement already satisfied: urllib3<1.27,>=1.21.1 in /usr/local/lib/python3.7/dist-packages (from requests>=2.24.0->pandas-profiling==3.2.0) (1.24.3)\n",
            "Requirement already satisfied: certifi>=2017.4.17 in /usr/local/lib/python3.7/dist-packages (from requests>=2.24.0->pandas-profiling==3.2.0) (2022.6.15)\n",
            "Requirement already satisfied: idna<4,>=2.5 in /usr/local/lib/python3.7/dist-packages (from requests>=2.24.0->pandas-profiling==3.2.0) (2.10)\n",
            "Requirement already satisfied: PyWavelets in /usr/local/lib/python3.7/dist-packages (from imagehash->visions[type_image_path]==0.7.5->pandas-profiling==3.2.0) (1.3.0)\n",
            "Building wheels for collected packages: pandas-profiling, htmlmin, imagehash\n",
            "  Building wheel for pandas-profiling (setup.py) ... \u001b[?25l\u001b[?25hdone\n",
            "  Created wheel for pandas-profiling: filename=pandas_profiling-3.2.0-py2.py3-none-any.whl size=261257 sha256=72ff59c7ed0102003971d38768b6da22def542ea7b6f27faf373a71c88873040\n",
            "  Stored in directory: /tmp/pip-ephem-wheel-cache-7t95gc6v/wheels/cc/d5/09/083fb07c9363a2f45854b0e3a7de7d7c560f07da74b9e9769d\n",
            "  Building wheel for htmlmin (setup.py) ... \u001b[?25l\u001b[?25hdone\n",
            "  Created wheel for htmlmin: filename=htmlmin-0.1.12-py3-none-any.whl size=27098 sha256=a0e75289ccf7aed31e13637665f62553dc33741da06ed605352b961887364acf\n",
            "  Stored in directory: /root/.cache/pip/wheels/70/e1/52/5b14d250ba868768823940c3229e9950d201a26d0bd3ee8655\n",
            "  Building wheel for imagehash (setup.py) ... \u001b[?25l\u001b[?25hdone\n",
            "  Created wheel for imagehash: filename=ImageHash-4.2.1-py2.py3-none-any.whl size=295206 sha256=bf7b3c9886ef6f86b91726e298aafef14e197e50ba658b9c9fdfe36af49f2ad2\n",
            "  Stored in directory: /root/.cache/pip/wheels/4c/d5/59/5e3e297533ddb09407769762985d134135064c6831e29a914e\n",
            "Successfully built pandas-profiling htmlmin imagehash\n",
            "Installing collected packages: tangled-up-in-unicode, multimethod, visions, imagehash, requests, phik, htmlmin, pandas-profiling\n",
            "  Attempting uninstall: requests\n",
            "    Found existing installation: requests 2.23.0\n",
            "    Uninstalling requests-2.23.0:\n",
            "      Successfully uninstalled requests-2.23.0\n",
            "  Attempting uninstall: pandas-profiling\n",
            "    Found existing installation: pandas-profiling 1.4.1\n",
            "    Uninstalling pandas-profiling-1.4.1:\n",
            "      Successfully uninstalled pandas-profiling-1.4.1\n",
            "Successfully installed htmlmin-0.1.12 imagehash-4.2.1 multimethod-1.8 pandas-profiling-3.2.0 phik-0.12.2 requests-2.28.1 tangled-up-in-unicode-0.2.0 visions-0.7.5\n"
          ]
        }
      ]
    },
    {
      "cell_type": "code",
      "source": [
        "from __future__ import print_function\n",
        "%matplotlib inline\n",
        "import os\n",
        "import warnings\n",
        "import numpy as np\n",
        "import matplotlib.pyplot as plt\n",
        "import matplotlib.image as image\n",
        "import pandas as pd\n",
        "from pandas_profiling import ProfileReport\n",
        "plt.style.use(\"ggplot\")\n",
        "warnings.simplefilter(\"ignore\")\n",
        "from sklearn.model_selection import GridSearchCV\n",
        "from sklearn.svm import SVC\n",
        "from sklearn.linear_model import LogisticRegression\n",
        "from sklearn.neighbors import KNeighborsClassifier\n",
        "import seaborn as sns"
      ],
      "metadata": {
        "id": "FxMvfiYnWaEG"
      },
      "execution_count": 2,
      "outputs": []
    },
    {
      "cell_type": "code",
      "source": [
        "plt.rcParams['figure.figsize'] = (12,8)\n"
      ],
      "metadata": {
        "id": "LhYfpp3HWevH"
      },
      "execution_count": 3,
      "outputs": []
    },
    {
      "cell_type": "markdown",
      "source": [
        "### Importação dos dados"
      ],
      "metadata": {
        "id": "94210jHfXH7K"
      }
    },
    {
      "cell_type": "code",
      "source": [
        "url='https://github.com/JoelmirDias/Trabalho/blob/main/Dados_Exporta.xlsx?raw=true'"
      ],
      "metadata": {
        "id": "qk9EcQbzWk9t"
      },
      "execution_count": 4,
      "outputs": []
    },
    {
      "cell_type": "code",
      "source": [
        "dados=pd.read_excel(url)"
      ],
      "metadata": {
        "colab": {
          "base_uri": "https://localhost:8080/",
          "height": 357
        },
        "id": "aViy5faTWpVt",
        "outputId": "788c5110-05d4-406c-8de4-2776b9828310"
      },
      "execution_count": 5,
      "outputs": [
        {
          "output_type": "execute_result",
          "data": {
            "text/plain": [
              "  SALMOURA     TI20604     TI20605         Carga  Densidade        POLI  \\\n",
              "0    CLARA  151.866501  152.471100  29735.132812   0.856654  NÃO INJETA   \n",
              "1    CLARA  152.779800  152.950500  29694.128906   0.856654  NÃO INJETA   \n",
              "2    CLARA  152.540298  150.821503  29837.505859   0.855049  NÃO INJETA   \n",
              "3    CLARA  154.892303  150.010803  29886.443359   0.855049  NÃO INJETA   \n",
              "4    CLARA  155.630295  152.763199  29956.599609   0.855049  NÃO INJETA   \n",
              "\n",
              "        DESEM   pH  LIC20506A  LIC20506B  LIC20506C  LIC20506D  PDI20632  \\\n",
              "0  NÃO INJETA  9.6  29.925329  29.992090  52.158199  51.940632  0.929341   \n",
              "1  NÃO INJETA  9.6  29.975401  29.701210  51.304649  50.598530  0.906500   \n",
              "2  NÃO INJETA  9.6  30.054079  30.082689  52.723259  52.556641  0.909552   \n",
              "3  NÃO INJETA  9.5  29.977779  29.937250  51.588371  52.546890  0.923619   \n",
              "4  NÃO INJETA  9.5  30.015930  29.963480  51.137749  51.997459  0.941692   \n",
              "\n",
              "   PDI20633  PDI20502  PDI20504  \n",
              "0  0.916705  0.493935  0.549344  \n",
              "1  0.879749  0.497129  0.565604  \n",
              "2  0.913176  0.489929  0.560359  \n",
              "3  0.918612  0.501087  0.554351  \n",
              "4  0.907406  0.499418  0.540045  "
            ],
            "text/html": [
              "\n",
              "  <div id=\"df-4a66ee41-a81f-49fb-a269-d250c99f7dc6\">\n",
              "    <div class=\"colab-df-container\">\n",
              "      <div>\n",
              "<style scoped>\n",
              "    .dataframe tbody tr th:only-of-type {\n",
              "        vertical-align: middle;\n",
              "    }\n",
              "\n",
              "    .dataframe tbody tr th {\n",
              "        vertical-align: top;\n",
              "    }\n",
              "\n",
              "    .dataframe thead th {\n",
              "        text-align: right;\n",
              "    }\n",
              "</style>\n",
              "<table border=\"1\" class=\"dataframe\">\n",
              "  <thead>\n",
              "    <tr style=\"text-align: right;\">\n",
              "      <th></th>\n",
              "      <th>SALMOURA</th>\n",
              "      <th>TI20604</th>\n",
              "      <th>TI20605</th>\n",
              "      <th>Carga</th>\n",
              "      <th>Densidade</th>\n",
              "      <th>POLI</th>\n",
              "      <th>DESEM</th>\n",
              "      <th>pH</th>\n",
              "      <th>LIC20506A</th>\n",
              "      <th>LIC20506B</th>\n",
              "      <th>LIC20506C</th>\n",
              "      <th>LIC20506D</th>\n",
              "      <th>PDI20632</th>\n",
              "      <th>PDI20633</th>\n",
              "      <th>PDI20502</th>\n",
              "      <th>PDI20504</th>\n",
              "    </tr>\n",
              "  </thead>\n",
              "  <tbody>\n",
              "    <tr>\n",
              "      <th>0</th>\n",
              "      <td>CLARA</td>\n",
              "      <td>151.866501</td>\n",
              "      <td>152.471100</td>\n",
              "      <td>29735.132812</td>\n",
              "      <td>0.856654</td>\n",
              "      <td>NÃO INJETA</td>\n",
              "      <td>NÃO INJETA</td>\n",
              "      <td>9.6</td>\n",
              "      <td>29.925329</td>\n",
              "      <td>29.992090</td>\n",
              "      <td>52.158199</td>\n",
              "      <td>51.940632</td>\n",
              "      <td>0.929341</td>\n",
              "      <td>0.916705</td>\n",
              "      <td>0.493935</td>\n",
              "      <td>0.549344</td>\n",
              "    </tr>\n",
              "    <tr>\n",
              "      <th>1</th>\n",
              "      <td>CLARA</td>\n",
              "      <td>152.779800</td>\n",
              "      <td>152.950500</td>\n",
              "      <td>29694.128906</td>\n",
              "      <td>0.856654</td>\n",
              "      <td>NÃO INJETA</td>\n",
              "      <td>NÃO INJETA</td>\n",
              "      <td>9.6</td>\n",
              "      <td>29.975401</td>\n",
              "      <td>29.701210</td>\n",
              "      <td>51.304649</td>\n",
              "      <td>50.598530</td>\n",
              "      <td>0.906500</td>\n",
              "      <td>0.879749</td>\n",
              "      <td>0.497129</td>\n",
              "      <td>0.565604</td>\n",
              "    </tr>\n",
              "    <tr>\n",
              "      <th>2</th>\n",
              "      <td>CLARA</td>\n",
              "      <td>152.540298</td>\n",
              "      <td>150.821503</td>\n",
              "      <td>29837.505859</td>\n",
              "      <td>0.855049</td>\n",
              "      <td>NÃO INJETA</td>\n",
              "      <td>NÃO INJETA</td>\n",
              "      <td>9.6</td>\n",
              "      <td>30.054079</td>\n",
              "      <td>30.082689</td>\n",
              "      <td>52.723259</td>\n",
              "      <td>52.556641</td>\n",
              "      <td>0.909552</td>\n",
              "      <td>0.913176</td>\n",
              "      <td>0.489929</td>\n",
              "      <td>0.560359</td>\n",
              "    </tr>\n",
              "    <tr>\n",
              "      <th>3</th>\n",
              "      <td>CLARA</td>\n",
              "      <td>154.892303</td>\n",
              "      <td>150.010803</td>\n",
              "      <td>29886.443359</td>\n",
              "      <td>0.855049</td>\n",
              "      <td>NÃO INJETA</td>\n",
              "      <td>NÃO INJETA</td>\n",
              "      <td>9.5</td>\n",
              "      <td>29.977779</td>\n",
              "      <td>29.937250</td>\n",
              "      <td>51.588371</td>\n",
              "      <td>52.546890</td>\n",
              "      <td>0.923619</td>\n",
              "      <td>0.918612</td>\n",
              "      <td>0.501087</td>\n",
              "      <td>0.554351</td>\n",
              "    </tr>\n",
              "    <tr>\n",
              "      <th>4</th>\n",
              "      <td>CLARA</td>\n",
              "      <td>155.630295</td>\n",
              "      <td>152.763199</td>\n",
              "      <td>29956.599609</td>\n",
              "      <td>0.855049</td>\n",
              "      <td>NÃO INJETA</td>\n",
              "      <td>NÃO INJETA</td>\n",
              "      <td>9.5</td>\n",
              "      <td>30.015930</td>\n",
              "      <td>29.963480</td>\n",
              "      <td>51.137749</td>\n",
              "      <td>51.997459</td>\n",
              "      <td>0.941692</td>\n",
              "      <td>0.907406</td>\n",
              "      <td>0.499418</td>\n",
              "      <td>0.540045</td>\n",
              "    </tr>\n",
              "  </tbody>\n",
              "</table>\n",
              "</div>\n",
              "      <button class=\"colab-df-convert\" onclick=\"convertToInteractive('df-4a66ee41-a81f-49fb-a269-d250c99f7dc6')\"\n",
              "              title=\"Convert this dataframe to an interactive table.\"\n",
              "              style=\"display:none;\">\n",
              "        \n",
              "  <svg xmlns=\"http://www.w3.org/2000/svg\" height=\"24px\"viewBox=\"0 0 24 24\"\n",
              "       width=\"24px\">\n",
              "    <path d=\"M0 0h24v24H0V0z\" fill=\"none\"/>\n",
              "    <path d=\"M18.56 5.44l.94 2.06.94-2.06 2.06-.94-2.06-.94-.94-2.06-.94 2.06-2.06.94zm-11 1L8.5 8.5l.94-2.06 2.06-.94-2.06-.94L8.5 2.5l-.94 2.06-2.06.94zm10 10l.94 2.06.94-2.06 2.06-.94-2.06-.94-.94-2.06-.94 2.06-2.06.94z\"/><path d=\"M17.41 7.96l-1.37-1.37c-.4-.4-.92-.59-1.43-.59-.52 0-1.04.2-1.43.59L10.3 9.45l-7.72 7.72c-.78.78-.78 2.05 0 2.83L4 21.41c.39.39.9.59 1.41.59.51 0 1.02-.2 1.41-.59l7.78-7.78 2.81-2.81c.8-.78.8-2.07 0-2.86zM5.41 20L4 18.59l7.72-7.72 1.47 1.35L5.41 20z\"/>\n",
              "  </svg>\n",
              "      </button>\n",
              "      \n",
              "  <style>\n",
              "    .colab-df-container {\n",
              "      display:flex;\n",
              "      flex-wrap:wrap;\n",
              "      gap: 12px;\n",
              "    }\n",
              "\n",
              "    .colab-df-convert {\n",
              "      background-color: #E8F0FE;\n",
              "      border: none;\n",
              "      border-radius: 50%;\n",
              "      cursor: pointer;\n",
              "      display: none;\n",
              "      fill: #1967D2;\n",
              "      height: 32px;\n",
              "      padding: 0 0 0 0;\n",
              "      width: 32px;\n",
              "    }\n",
              "\n",
              "    .colab-df-convert:hover {\n",
              "      background-color: #E2EBFA;\n",
              "      box-shadow: 0px 1px 2px rgba(60, 64, 67, 0.3), 0px 1px 3px 1px rgba(60, 64, 67, 0.15);\n",
              "      fill: #174EA6;\n",
              "    }\n",
              "\n",
              "    [theme=dark] .colab-df-convert {\n",
              "      background-color: #3B4455;\n",
              "      fill: #D2E3FC;\n",
              "    }\n",
              "\n",
              "    [theme=dark] .colab-df-convert:hover {\n",
              "      background-color: #434B5C;\n",
              "      box-shadow: 0px 1px 3px 1px rgba(0, 0, 0, 0.15);\n",
              "      filter: drop-shadow(0px 1px 2px rgba(0, 0, 0, 0.3));\n",
              "      fill: #FFFFFF;\n",
              "    }\n",
              "  </style>\n",
              "\n",
              "      <script>\n",
              "        const buttonEl =\n",
              "          document.querySelector('#df-4a66ee41-a81f-49fb-a269-d250c99f7dc6 button.colab-df-convert');\n",
              "        buttonEl.style.display =\n",
              "          google.colab.kernel.accessAllowed ? 'block' : 'none';\n",
              "\n",
              "        async function convertToInteractive(key) {\n",
              "          const element = document.querySelector('#df-4a66ee41-a81f-49fb-a269-d250c99f7dc6');\n",
              "          const dataTable =\n",
              "            await google.colab.kernel.invokeFunction('convertToInteractive',\n",
              "                                                     [key], {});\n",
              "          if (!dataTable) return;\n",
              "\n",
              "          const docLinkHtml = 'Like what you see? Visit the ' +\n",
              "            '<a target=\"_blank\" href=https://colab.research.google.com/notebooks/data_table.ipynb>data table notebook</a>'\n",
              "            + ' to learn more about interactive tables.';\n",
              "          element.innerHTML = '';\n",
              "          dataTable['output_type'] = 'display_data';\n",
              "          await google.colab.output.renderOutput(dataTable, element);\n",
              "          const docLink = document.createElement('div');\n",
              "          docLink.innerHTML = docLinkHtml;\n",
              "          element.appendChild(docLink);\n",
              "        }\n",
              "      </script>\n",
              "    </div>\n",
              "  </div>\n",
              "  "
            ]
          },
          "metadata": {},
          "execution_count": 5
        }
      ]
    },
    {
      "cell_type": "code",
      "source": [
        "dados.tail()"
      ],
      "metadata": {
        "colab": {
          "base_uri": "https://localhost:8080/",
          "height": 357
        },
        "id": "kN5-Ei6UWsQ4",
        "outputId": "db03a2ee-8e90-4539-a59b-8d6c1a8d5b42"
      },
      "execution_count": 6,
      "outputs": [
        {
          "output_type": "execute_result",
          "data": {
            "text/plain": [
              "     SALMOURA     TI20604     TI20605         Carga  Densidade        POLI  \\\n",
              "8804    CLARA  142.685699  145.477005  33038.753906   0.870441  NÃO INJETA   \n",
              "8805    CLARA  136.542603  140.084503  32996.617188   0.870441  NÃO INJETA   \n",
              "8806    CLARA  136.537094  140.028595  32954.429688   0.870441  NÃO INJETA   \n",
              "8807    CLARA  138.628403  140.281693  32959.792969   0.870441  NÃO INJETA   \n",
              "8808    CLARA  144.738998  145.729599  32966.441406   0.870441  NÃO INJETA   \n",
              "\n",
              "           DESEM   pH  LIC20506A  LIC20506B  LIC20506C  LIC20506D  PDI20632  \\\n",
              "8804  NÃO INJETA  7.0  38.329708  37.981461  52.909370  54.633991  1.130379   \n",
              "8805  NÃO INJETA  7.0  38.017380  38.033390  53.139950  55.334190  1.137245   \n",
              "8806  NÃO INJETA  5.2  38.096050  38.116711  53.187061  55.575260  1.181735   \n",
              "8807  NÃO INJETA  5.2  38.224800  37.931492  53.447880  54.274139  1.161183   \n",
              "8808  NÃO INJETA  5.2  35.144390  32.754398  42.329910  43.762760  1.195325   \n",
              "\n",
              "      PDI20633  PDI20502  PDI20504  \n",
              "8804  1.099765  1.205482  1.142729  \n",
              "8805  1.129377  1.217880  1.188458  \n",
              "8806  1.123417  1.227226  1.190700  \n",
              "8807  1.151026  1.226320  1.179828  \n",
              "8808  1.121223  1.150549  1.152695  "
            ],
            "text/html": [
              "\n",
              "  <div id=\"df-7c2b3bce-6ac2-4b97-8453-f360b39c1ddf\">\n",
              "    <div class=\"colab-df-container\">\n",
              "      <div>\n",
              "<style scoped>\n",
              "    .dataframe tbody tr th:only-of-type {\n",
              "        vertical-align: middle;\n",
              "    }\n",
              "\n",
              "    .dataframe tbody tr th {\n",
              "        vertical-align: top;\n",
              "    }\n",
              "\n",
              "    .dataframe thead th {\n",
              "        text-align: right;\n",
              "    }\n",
              "</style>\n",
              "<table border=\"1\" class=\"dataframe\">\n",
              "  <thead>\n",
              "    <tr style=\"text-align: right;\">\n",
              "      <th></th>\n",
              "      <th>SALMOURA</th>\n",
              "      <th>TI20604</th>\n",
              "      <th>TI20605</th>\n",
              "      <th>Carga</th>\n",
              "      <th>Densidade</th>\n",
              "      <th>POLI</th>\n",
              "      <th>DESEM</th>\n",
              "      <th>pH</th>\n",
              "      <th>LIC20506A</th>\n",
              "      <th>LIC20506B</th>\n",
              "      <th>LIC20506C</th>\n",
              "      <th>LIC20506D</th>\n",
              "      <th>PDI20632</th>\n",
              "      <th>PDI20633</th>\n",
              "      <th>PDI20502</th>\n",
              "      <th>PDI20504</th>\n",
              "    </tr>\n",
              "  </thead>\n",
              "  <tbody>\n",
              "    <tr>\n",
              "      <th>8804</th>\n",
              "      <td>CLARA</td>\n",
              "      <td>142.685699</td>\n",
              "      <td>145.477005</td>\n",
              "      <td>33038.753906</td>\n",
              "      <td>0.870441</td>\n",
              "      <td>NÃO INJETA</td>\n",
              "      <td>NÃO INJETA</td>\n",
              "      <td>7.0</td>\n",
              "      <td>38.329708</td>\n",
              "      <td>37.981461</td>\n",
              "      <td>52.909370</td>\n",
              "      <td>54.633991</td>\n",
              "      <td>1.130379</td>\n",
              "      <td>1.099765</td>\n",
              "      <td>1.205482</td>\n",
              "      <td>1.142729</td>\n",
              "    </tr>\n",
              "    <tr>\n",
              "      <th>8805</th>\n",
              "      <td>CLARA</td>\n",
              "      <td>136.542603</td>\n",
              "      <td>140.084503</td>\n",
              "      <td>32996.617188</td>\n",
              "      <td>0.870441</td>\n",
              "      <td>NÃO INJETA</td>\n",
              "      <td>NÃO INJETA</td>\n",
              "      <td>7.0</td>\n",
              "      <td>38.017380</td>\n",
              "      <td>38.033390</td>\n",
              "      <td>53.139950</td>\n",
              "      <td>55.334190</td>\n",
              "      <td>1.137245</td>\n",
              "      <td>1.129377</td>\n",
              "      <td>1.217880</td>\n",
              "      <td>1.188458</td>\n",
              "    </tr>\n",
              "    <tr>\n",
              "      <th>8806</th>\n",
              "      <td>CLARA</td>\n",
              "      <td>136.537094</td>\n",
              "      <td>140.028595</td>\n",
              "      <td>32954.429688</td>\n",
              "      <td>0.870441</td>\n",
              "      <td>NÃO INJETA</td>\n",
              "      <td>NÃO INJETA</td>\n",
              "      <td>5.2</td>\n",
              "      <td>38.096050</td>\n",
              "      <td>38.116711</td>\n",
              "      <td>53.187061</td>\n",
              "      <td>55.575260</td>\n",
              "      <td>1.181735</td>\n",
              "      <td>1.123417</td>\n",
              "      <td>1.227226</td>\n",
              "      <td>1.190700</td>\n",
              "    </tr>\n",
              "    <tr>\n",
              "      <th>8807</th>\n",
              "      <td>CLARA</td>\n",
              "      <td>138.628403</td>\n",
              "      <td>140.281693</td>\n",
              "      <td>32959.792969</td>\n",
              "      <td>0.870441</td>\n",
              "      <td>NÃO INJETA</td>\n",
              "      <td>NÃO INJETA</td>\n",
              "      <td>5.2</td>\n",
              "      <td>38.224800</td>\n",
              "      <td>37.931492</td>\n",
              "      <td>53.447880</td>\n",
              "      <td>54.274139</td>\n",
              "      <td>1.161183</td>\n",
              "      <td>1.151026</td>\n",
              "      <td>1.226320</td>\n",
              "      <td>1.179828</td>\n",
              "    </tr>\n",
              "    <tr>\n",
              "      <th>8808</th>\n",
              "      <td>CLARA</td>\n",
              "      <td>144.738998</td>\n",
              "      <td>145.729599</td>\n",
              "      <td>32966.441406</td>\n",
              "      <td>0.870441</td>\n",
              "      <td>NÃO INJETA</td>\n",
              "      <td>NÃO INJETA</td>\n",
              "      <td>5.2</td>\n",
              "      <td>35.144390</td>\n",
              "      <td>32.754398</td>\n",
              "      <td>42.329910</td>\n",
              "      <td>43.762760</td>\n",
              "      <td>1.195325</td>\n",
              "      <td>1.121223</td>\n",
              "      <td>1.150549</td>\n",
              "      <td>1.152695</td>\n",
              "    </tr>\n",
              "  </tbody>\n",
              "</table>\n",
              "</div>\n",
              "      <button class=\"colab-df-convert\" onclick=\"convertToInteractive('df-7c2b3bce-6ac2-4b97-8453-f360b39c1ddf')\"\n",
              "              title=\"Convert this dataframe to an interactive table.\"\n",
              "              style=\"display:none;\">\n",
              "        \n",
              "  <svg xmlns=\"http://www.w3.org/2000/svg\" height=\"24px\"viewBox=\"0 0 24 24\"\n",
              "       width=\"24px\">\n",
              "    <path d=\"M0 0h24v24H0V0z\" fill=\"none\"/>\n",
              "    <path d=\"M18.56 5.44l.94 2.06.94-2.06 2.06-.94-2.06-.94-.94-2.06-.94 2.06-2.06.94zm-11 1L8.5 8.5l.94-2.06 2.06-.94-2.06-.94L8.5 2.5l-.94 2.06-2.06.94zm10 10l.94 2.06.94-2.06 2.06-.94-2.06-.94-.94-2.06-.94 2.06-2.06.94z\"/><path d=\"M17.41 7.96l-1.37-1.37c-.4-.4-.92-.59-1.43-.59-.52 0-1.04.2-1.43.59L10.3 9.45l-7.72 7.72c-.78.78-.78 2.05 0 2.83L4 21.41c.39.39.9.59 1.41.59.51 0 1.02-.2 1.41-.59l7.78-7.78 2.81-2.81c.8-.78.8-2.07 0-2.86zM5.41 20L4 18.59l7.72-7.72 1.47 1.35L5.41 20z\"/>\n",
              "  </svg>\n",
              "      </button>\n",
              "      \n",
              "  <style>\n",
              "    .colab-df-container {\n",
              "      display:flex;\n",
              "      flex-wrap:wrap;\n",
              "      gap: 12px;\n",
              "    }\n",
              "\n",
              "    .colab-df-convert {\n",
              "      background-color: #E8F0FE;\n",
              "      border: none;\n",
              "      border-radius: 50%;\n",
              "      cursor: pointer;\n",
              "      display: none;\n",
              "      fill: #1967D2;\n",
              "      height: 32px;\n",
              "      padding: 0 0 0 0;\n",
              "      width: 32px;\n",
              "    }\n",
              "\n",
              "    .colab-df-convert:hover {\n",
              "      background-color: #E2EBFA;\n",
              "      box-shadow: 0px 1px 2px rgba(60, 64, 67, 0.3), 0px 1px 3px 1px rgba(60, 64, 67, 0.15);\n",
              "      fill: #174EA6;\n",
              "    }\n",
              "\n",
              "    [theme=dark] .colab-df-convert {\n",
              "      background-color: #3B4455;\n",
              "      fill: #D2E3FC;\n",
              "    }\n",
              "\n",
              "    [theme=dark] .colab-df-convert:hover {\n",
              "      background-color: #434B5C;\n",
              "      box-shadow: 0px 1px 3px 1px rgba(0, 0, 0, 0.15);\n",
              "      filter: drop-shadow(0px 1px 2px rgba(0, 0, 0, 0.3));\n",
              "      fill: #FFFFFF;\n",
              "    }\n",
              "  </style>\n",
              "\n",
              "      <script>\n",
              "        const buttonEl =\n",
              "          document.querySelector('#df-7c2b3bce-6ac2-4b97-8453-f360b39c1ddf button.colab-df-convert');\n",
              "        buttonEl.style.display =\n",
              "          google.colab.kernel.accessAllowed ? 'block' : 'none';\n",
              "\n",
              "        async function convertToInteractive(key) {\n",
              "          const element = document.querySelector('#df-7c2b3bce-6ac2-4b97-8453-f360b39c1ddf');\n",
              "          const dataTable =\n",
              "            await google.colab.kernel.invokeFunction('convertToInteractive',\n",
              "                                                     [key], {});\n",
              "          if (!dataTable) return;\n",
              "\n",
              "          const docLinkHtml = 'Like what you see? Visit the ' +\n",
              "            '<a target=\"_blank\" href=https://colab.research.google.com/notebooks/data_table.ipynb>data table notebook</a>'\n",
              "            + ' to learn more about interactive tables.';\n",
              "          element.innerHTML = '';\n",
              "          dataTable['output_type'] = 'display_data';\n",
              "          await google.colab.output.renderOutput(dataTable, element);\n",
              "          const docLink = document.createElement('div');\n",
              "          docLink.innerHTML = docLinkHtml;\n",
              "          element.appendChild(docLink);\n",
              "        }\n",
              "      </script>\n",
              "    </div>\n",
              "  </div>\n",
              "  "
            ]
          },
          "metadata": {},
          "execution_count": 6
        }
      ]
    },
    {
      "cell_type": "markdown",
      "source": [
        "### Relatório dos dados"
      ],
      "metadata": {
        "id": "hLCeCZH-XPZG"
      }
    },
    {
      "cell_type": "code",
      "source": [
        "profile=dados.profile_report()\n",
        "profile.to_file(output_file=\"dessalgadora.html\")\n",
        "profile"
      ],
      "metadata": {
        "id": "uvqXfXkFW0-V"
      },
      "execution_count": null,
      "outputs": []
    },
    {
      "cell_type": "markdown",
      "source": [
        "### Hot-Encoding: Criação de variáveis dummies"
      ],
      "metadata": {
        "id": "qjrdf0d2XXc3"
      }
    },
    {
      "cell_type": "code",
      "source": [
        "cat_vars=['POLI','DESEM']\n",
        "for var in cat_vars:\n",
        "  cat_list = pd.get_dummies(dados[var], prefix=var)\n",
        "  dados = dados.join(cat_list)"
      ],
      "metadata": {
        "id": "0OSLJd08W5HB"
      },
      "execution_count": 7,
      "outputs": []
    },
    {
      "cell_type": "code",
      "source": [
        "dados['SALMOURA'].value_counts()"
      ],
      "metadata": {
        "colab": {
          "base_uri": "https://localhost:8080/"
        },
        "id": "T755-nAGXg82",
        "outputId": "42b9866d-5c90-4688-9281-485a05f92ed0"
      },
      "execution_count": 8,
      "outputs": [
        {
          "output_type": "execute_result",
          "data": {
            "text/plain": [
              "CLARA     8260\n",
              "TURVA      278\n",
              "ESCURA     271\n",
              "Name: SALMOURA, dtype: int64"
            ]
          },
          "metadata": {},
          "execution_count": 8
        }
      ]
    },
    {
      "cell_type": "code",
      "source": [
        "Arraste=[]\n",
        "for i in range(len(dados['SALMOURA'])):\n",
        "  if dados['SALMOURA'][i]=='CLARA':\n",
        "    Arraste.append(0)\n",
        "  elif dados['SALMOURA'][i]=='TURVA':\n",
        "    Arraste.append(1)\n",
        "  else:\n",
        "    Arraste.append(2)\n",
        "dados['Arraste']=Arraste"
      ],
      "metadata": {
        "id": "olEGIh4tXoMG"
      },
      "execution_count": 9,
      "outputs": []
    },
    {
      "cell_type": "code",
      "source": [
        "dados.drop(columns=['SALMOURA','POLI','DESEM','DESEM_NÃO INJETA','POLI_NÃO INJETA' ], inplace=True)"
      ],
      "metadata": {
        "id": "-AiVgpCuXspF"
      },
      "execution_count": 10,
      "outputs": []
    },
    {
      "cell_type": "markdown",
      "source": [
        "### Visualização do Desbalanceamento"
      ],
      "metadata": {
        "id": "IL-9Fq6qXzpV"
      }
    },
    {
      "cell_type": "code",
      "source": [
        "from yellowbrick.target import ClassBalance\n",
        "plt.style.use(\"ggplot\")\n",
        "plt.rcParams['figure.figsize'] = (12,8)"
      ],
      "metadata": {
        "id": "_iW6KA7AXwT8"
      },
      "execution_count": 11,
      "outputs": []
    },
    {
      "cell_type": "code",
      "source": [
        "visualizer=ClassBalance(labels=['Clara','Turva','Escura']).fit(dados.Arraste)\n",
        "visualizer.show()"
      ],
      "metadata": {
        "colab": {
          "base_uri": "https://localhost:8080/",
          "height": 517
        },
        "id": "AIH9EGFeX5m0",
        "outputId": "1e766155-ce74-4f28-823c-3859c11dc76b"
      },
      "execution_count": 12,
      "outputs": [
        {
          "output_type": "display_data",
          "data": {
            "text/plain": [
              "<Figure size 864x576 with 1 Axes>"
            ],
            "image/png": "[encoded data removed]"
          },
          "metadata": {}
        },
        {
          "output_type": "execute_result",
          "data": {
            "text/plain": [
              "<matplotlib.axes._subplots.AxesSubplot at 0x7fd2ac751390>"
            ]
          },
          "metadata": {},
          "execution_count": 12
        }
      ]
    },
    {
      "cell_type": "markdown",
      "source": [
        "Conclusão: Modelo bastante desbalanceado. Utilizaremos técnica de sobre/sub-amostragem"
      ],
      "metadata": {
        "id": "6buVkEigYDOi"
      }
    },
    {
      "cell_type": "code",
      "source": [
        "dados.Arraste.value_counts()"
      ],
      "metadata": {
        "colab": {
          "base_uri": "https://localhost:8080/"
        },
        "id": "6b7oDjk6YPkz",
        "outputId": "c3f8bffb-fd2c-40d8-f8a2-50f50994609d"
      },
      "execution_count": 14,
      "outputs": [
        {
          "output_type": "execute_result",
          "data": {
            "text/plain": [
              "0    8260\n",
              "1     278\n",
              "2     271\n",
              "Name: Arraste, dtype: int64"
            ]
          },
          "metadata": {},
          "execution_count": 14
        }
      ]
    },
    {
      "cell_type": "markdown",
      "source": [
        "Considera-se que há dados suficiente da categoria 1 e 2 para fazer subamostragem."
      ],
      "metadata": {
        "id": "X4COujRnYeF6"
      }
    },
    {
      "cell_type": "markdown",
      "source": [
        "### Técnica de Subamostragem"
      ],
      "metadata": {
        "id": "2VUFomS3YHKg"
      }
    },
    {
      "cell_type": "code",
      "source": [
        "from imblearn.under_sampling import RandomUnderSampler"
      ],
      "metadata": {
        "id": "pOt3cXsCX8Yy"
      },
      "execution_count": 15,
      "outputs": []
    },
    {
      "cell_type": "code",
      "source": [
        "X = dados.loc[:, dados.columns != 'Arraste']\n",
        "y = dados.Arraste"
      ],
      "metadata": {
        "id": "kuqiDZluYviN"
      },
      "execution_count": 16,
      "outputs": []
    },
    {
      "cell_type": "code",
      "source": [
        "sub=RandomUnderSampler()\n",
        "x_sub,y_sub=sub.fit_resample(X, y)\n",
        "y_sub.value_counts()"
      ],
      "metadata": {
        "colab": {
          "base_uri": "https://localhost:8080/"
        },
        "id": "xQbAoO8uYybk",
        "outputId": "59cf516a-b0a2-43b2-cadf-df37bdac8626"
      },
      "execution_count": 18,
      "outputs": [
        {
          "output_type": "execute_result",
          "data": {
            "text/plain": [
              "0    271\n",
              "1    271\n",
              "2    271\n",
              "Name: Arraste, dtype: int64"
            ]
          },
          "metadata": {},
          "execution_count": 18
        }
      ]
    },
    {
      "cell_type": "code",
      "source": [
        "from sklearn.model_selection import train_test_split\n",
        "X_train, X_test, y_train, y_test = train_test_split(x_sub, y_sub, test_size=0.3, stratify=y_sub)"
      ],
      "metadata": {
        "id": "GIcsI1iyZ-RA"
      },
      "execution_count": 23,
      "outputs": []
    },
    {
      "cell_type": "markdown",
      "source": [
        "### Criação dos Modelos"
      ],
      "metadata": {
        "id": "ZMDpl3pDZV4e"
      }
    },
    {
      "cell_type": "code",
      "source": [
        "from sklearn import tree\n",
        "from sklearn.tree import DecisionTreeClassifier\n",
        "from sklearn.ensemble import RandomForestClassifier\n",
        "from sklearn.metrics import accuracy_score\n",
        "from sklearn.tree import export_graphviz # display the tree within a Jupyter notebook\n",
        "from IPython.display import SVG\n",
        "from graphviz import Source\n",
        "from IPython.display import display\n",
        "from ipywidgets import interactive, IntSlider, FloatSlider, interact\n",
        "import ipywidgets\n",
        "from IPython.display import Image\n",
        "from subprocess import call\n",
        "import matplotlib.image as mpimg\n",
        "from yellowbrick.model_selection import FeatureImportances\n",
        "from yellowbrick.classifier import ROCAUC\n",
        "from yellowbrick.classifier import ClassificationReport"
      ],
      "metadata": {
        "id": "kQNZWnDEZH6v"
      },
      "execution_count": 20,
      "outputs": []
    },
    {
      "cell_type": "code",
      "source": [
        "from sklearn.metrics import confusion_matrix as cm\n",
        "from sklearn.metrics import ConfusionMatrixDisplay\n",
        "plt.rcParams['figure.figsize']=[16,9]"
      ],
      "metadata": {
        "id": "4618D7bqZM1x"
      },
      "execution_count": 21,
      "outputs": []
    },
    {
      "cell_type": "markdown",
      "source": [
        "### Ajuste RandomForest"
      ],
      "metadata": {
        "id": "Z3im0i0HZrIt"
      }
    },
    {
      "cell_type": "code",
      "source": [
        "from sklearn.model_selection import KFold\n",
        "crossvalidation=KFold(n_splits=5, shuffle=True, random_state=1)\n",
        "scorer='accuracy'\n",
        "max_features=[x_sub.shape[1]/3, 'sqrt','log2','auto']\n",
        "min_samples_leaf=[1,10,30]\n",
        "n_estimators=[50,100,300]\n",
        "RF=RandomForestClassifier()"
      ],
      "metadata": {
        "id": "tBaEFsd3ZueU"
      },
      "execution_count": 24,
      "outputs": []
    },
    {
      "cell_type": "code",
      "source": [
        "search_grid= {'n_estimators':n_estimators,'max_features': max_features,'min_samples_leaf':min_samples_leaf}\n",
        "rf_cv=GridSearchCV(estimator=RF,\n",
        "                         param_grid=search_grid,\n",
        "                         scoring=scorer,\n",
        "                         cv=crossvalidation)\n",
        "rf_cv.fit(X_train,y_train)\n",
        "best_params=rf_cv.best_params_\n",
        "best_score=rf_cv.best_score_\n",
        "print('Melhores parâmetros: %s'% best_params)\n",
        "print('Melhor acurácia: %s'% best_score)"
      ],
      "metadata": {
        "colab": {
          "base_uri": "https://localhost:8080/"
        },
        "id": "GzbZTzSQZ0yN",
        "outputId": "cee232f1-f73b-4840-e274-937b1dffe1f8"
      },
      "execution_count": 26,
      "outputs": [
        {
          "output_type": "stream",
          "name": "stdout",
          "text": [
            "Melhores parâmetros: {'max_features': 'log2', 'min_samples_leaf': 1, 'n_estimators': 50}\n",
            "Melhor acurácia: 0.5043937276820369\n"
          ]
        }
      ]
    },
    {
      "cell_type": "code",
      "source": [
        "y_rf_cv=rf_cv.predict(X_test)"
      ],
      "metadata": {
        "id": "Kfb3LlewaQgS"
      },
      "execution_count": 27,
      "outputs": []
    },
    {
      "cell_type": "code",
      "source": [
        "mc_rf_cv=cm(y_test, y_rf_cv)\n",
        "mcd_Melhor=ConfusionMatrixDisplay(mc_rf_cv, display_labels=['CLARA','TURVA','ESCURA'])\n",
        "mcd_Melhor.plot()"
      ],
      "metadata": {
        "colab": {
          "base_uri": "https://localhost:8080/",
          "height": 570
        },
        "id": "XgUJ9w8sa0CW",
        "outputId": "9ffab92d-827d-40ea-efd5-227f30a2b6bb"
      },
      "execution_count": 28,
      "outputs": [
        {
          "output_type": "execute_result",
          "data": {
            "text/plain": [
              "<sklearn.metrics._plot.confusion_matrix.ConfusionMatrixDisplay at 0x7fd2aa1f0890>"
            ]
          },
          "metadata": {},
          "execution_count": 28
        },
        {
          "output_type": "display_data",
          "data": {
            "text/plain": [
              "<Figure size 1152x648 with 2 Axes>"
            ],
            "image/png": "[encoded data removed]"
          },
          "metadata": {}
        }
      ]
    },
    {
      "cell_type": "code",
      "source": [],
      "metadata": {
        "id": "qRfznBRFbAnb"
      },
      "execution_count": null,
      "outputs": []
    },
    {
      "cell_type": "markdown",
      "source": [
        "### Árvore de Decisão"
      ],
      "metadata": {
        "id": "idHNR4y2bL3B"
      }
    },
    {
      "cell_type": "code",
      "source": [
        "parameters = {'criterion': ['gini', 'entropy'],\n",
        "     'splitter': ['best', 'random'],\n",
        "     'max_depth': [2*n for n in range(1,10)],\n",
        "     'max_features': ['auto', 'sqrt'],\n",
        "     'min_samples_leaf': [1, 2, 4],\n",
        "     'min_samples_split': [2, 5, 10]}\n",
        "\n",
        "tree = DecisionTreeClassifier()"
      ],
      "metadata": {
        "id": "aM2g238wbOf4"
      },
      "execution_count": 29,
      "outputs": []
    },
    {
      "cell_type": "code",
      "source": [
        "tree_cv=GridSearchCV(estimator=DecisionTreeClassifier(),param_grid=parameters,cv=10)\n",
        "tree_cv.fit(X_train,y_train)"
      ],
      "metadata": {
        "colab": {
          "base_uri": "https://localhost:8080/"
        },
        "id": "fOBVhIbwbRc9",
        "outputId": "54c955c1-160c-427e-e85a-a5639e71690e"
      },
      "execution_count": 30,
      "outputs": [
        {
          "output_type": "execute_result",
          "data": {
            "text/plain": [
              "GridSearchCV(cv=10, estimator=DecisionTreeClassifier(),\n",
              "             param_grid={'criterion': ['gini', 'entropy'],\n",
              "                         'max_depth': [2, 4, 6, 8, 10, 12, 14, 16, 18],\n",
              "                         'max_features': ['auto', 'sqrt'],\n",
              "                         'min_samples_leaf': [1, 2, 4],\n",
              "                         'min_samples_split': [2, 5, 10],\n",
              "                         'splitter': ['best', 'random']})"
            ]
          },
          "metadata": {},
          "execution_count": 30
        }
      ]
    },
    {
      "cell_type": "code",
      "source": [
        "y_tree_cv=tree_cv.predict(X_test)"
      ],
      "metadata": {
        "id": "P4Kvqf1PbTcr"
      },
      "execution_count": 32,
      "outputs": []
    },
    {
      "cell_type": "code",
      "source": [
        "mc_Tree=cm(y_test, y_tree_cv)\n",
        "mcd_Tree=ConfusionMatrixDisplay(mc_Tree, display_labels=['CLARA','TURVA','ESCURA'])\n",
        "mcd_Tree.plot()"
      ],
      "metadata": {
        "colab": {
          "base_uri": "https://localhost:8080/",
          "height": 570
        },
        "id": "mhv3AMr6badf",
        "outputId": "13a3edbb-be23-465f-8572-764531facd89"
      },
      "execution_count": 34,
      "outputs": [
        {
          "output_type": "execute_result",
          "data": {
            "text/plain": [
              "<sklearn.metrics._plot.confusion_matrix.ConfusionMatrixDisplay at 0x7fd2aa140350>"
            ]
          },
          "metadata": {},
          "execution_count": 34
        },
        {
          "output_type": "display_data",
          "data": {
            "text/plain": [
              "<Figure size 1152x648 with 2 Axes>"
            ],
            "image/png": "[encoded data removed]"
          },
          "metadata": {}
        }
      ]
    },
    {
      "cell_type": "code",
      "source": [
        "print(\"Hiperparâmetros: \",tree_cv.best_params_)\n",
        "print(\"Acurácia :\",tree_cv.best_score_)"
      ],
      "metadata": {
        "colab": {
          "base_uri": "https://localhost:8080/"
        },
        "id": "F5_dgN0wbiw8",
        "outputId": "4c6eea3b-24f1-48ec-b378-800bc6330344"
      },
      "execution_count": 35,
      "outputs": [
        {
          "output_type": "stream",
          "name": "stdout",
          "text": [
            "Hiperparâmetros:  {'criterion': 'entropy', 'max_depth': 10, 'max_features': 'sqrt', 'min_samples_leaf': 1, 'min_samples_split': 5, 'splitter': 'random'}\n",
            "Acurácia : 0.4813909774436091\n"
          ]
        }
      ]
    },
    {
      "cell_type": "markdown",
      "source": [
        "### Logística"
      ],
      "metadata": {
        "id": "U7xtjSp5bz95"
      }
    },
    {
      "cell_type": "code",
      "source": [
        "parameters ={'C':[0.01,0.1,1],\n",
        "             'penalty':['l2'],\n",
        "             'solver':['lbfgs']}"
      ],
      "metadata": {
        "id": "N-CM9GwBb3ai"
      },
      "execution_count": 36,
      "outputs": []
    },
    {
      "cell_type": "code",
      "source": [
        "parameters ={\"C\":[0.01,0.1,1],'penalty':['l2'], 'solver':['lbfgs']}# l1 lasso l2 ridge\n",
        "lr=LogisticRegression()\n",
        "logreg_cv=GridSearchCV(estimator=LogisticRegression(),param_grid=parameters,cv=10)\n",
        "logreg_cv.fit(X_train,y_train)"
      ],
      "metadata": {
        "colab": {
          "base_uri": "https://localhost:8080/"
        },
        "id": "dSH8t1VIb-54",
        "outputId": "d280c363-dd6c-4dd5-c3df-9913ed4390bf"
      },
      "execution_count": 37,
      "outputs": [
        {
          "output_type": "execute_result",
          "data": {
            "text/plain": [
              "GridSearchCV(cv=10, estimator=LogisticRegression(),\n",
              "             param_grid={'C': [0.01, 0.1, 1], 'penalty': ['l2'],\n",
              "                         'solver': ['lbfgs']})"
            ]
          },
          "metadata": {},
          "execution_count": 37
        }
      ]
    },
    {
      "cell_type": "code",
      "source": [
        "print(\"Hiperparâmetros: \",logreg_cv.best_params_)\n",
        "print(\"Acurácia :\",logreg_cv.best_score_)"
      ],
      "metadata": {
        "colab": {
          "base_uri": "https://localhost:8080/"
        },
        "id": "DzEiYP99cAhR",
        "outputId": "6cd0a8fd-19da-418b-9825-a5b34d34f0a3"
      },
      "execution_count": 39,
      "outputs": [
        {
          "output_type": "stream",
          "name": "stdout",
          "text": [
            "Hiperparâmetros:  {'C': 1, 'penalty': 'l2', 'solver': 'lbfgs'}\n",
            "Acurácia : 0.39539473684210524\n"
          ]
        }
      ]
    },
    {
      "cell_type": "code",
      "source": [
        "y_predlog=logreg_cv.predict(X_test)\n",
        "mc_log=cm(y_test, y_predlog)\n",
        "mcdlog=ConfusionMatrixDisplay(mc_log, display_labels=['CLARA','TURVA','ESCURA'])\n",
        "mcdlog.plot()"
      ],
      "metadata": {
        "colab": {
          "base_uri": "https://localhost:8080/",
          "height": 570
        },
        "id": "hhNnKsNVcDIw",
        "outputId": "7607e5b9-cc00-4896-b569-229678cdaee3"
      },
      "execution_count": 40,
      "outputs": [
        {
          "output_type": "execute_result",
          "data": {
            "text/plain": [
              "<sklearn.metrics._plot.confusion_matrix.ConfusionMatrixDisplay at 0x7fd2aa0abf10>"
            ]
          },
          "metadata": {},
          "execution_count": 40
        },
        {
          "output_type": "display_data",
          "data": {
            "text/plain": [
              "<Figure size 1152x648 with 2 Axes>"
            ],
            "image/png": "[encoded data removed]"
          },
          "metadata": {}
        }
      ]
    },
    {
      "cell_type": "code",
      "source": [],
      "metadata": {
        "id": "misAjin9cIey"
      },
      "execution_count": null,
      "outputs": []
    },
    {
      "cell_type": "markdown",
      "source": [
        "## O melhor ajuste foi o Random Forest"
      ],
      "metadata": {
        "id": "xniyGJMCcNH8"
      }
    },
    {
      "cell_type": "markdown",
      "source": [
        "### Preparando exportação do modelo"
      ],
      "metadata": {
        "id": "bC_dL3lKcSvD"
      }
    },
    {
      "cell_type": "markdown",
      "source": [
        "### Ajuste com todos os dados"
      ],
      "metadata": {
        "id": "LYbJasvIcWaU"
      }
    },
    {
      "cell_type": "code",
      "source": [
        "rf_final=GridSearchCV(estimator=RF,\n",
        "                         param_grid=search_grid,\n",
        "                         scoring=scorer,\n",
        "                         cv=crossvalidation)\n",
        "rf_final.fit(x_sub,y_sub)\n",
        "best_params=rf_final.best_params_\n",
        "best_score=rf_final.best_score_\n",
        "print('Melhores parâmetros: %s'% best_params)\n",
        "print('Melhor acurácia: %s'% best_score)"
      ],
      "metadata": {
        "colab": {
          "base_uri": "https://localhost:8080/"
        },
        "id": "u_xRPLMKcQHc",
        "outputId": "b3b0a329-5908-4c32-babd-c38af1f20e8f"
      },
      "execution_count": 43,
      "outputs": [
        {
          "output_type": "stream",
          "name": "stdout",
          "text": [
            "Melhores parâmetros: {'max_features': 'auto', 'min_samples_leaf': 1, 'n_estimators': 300}\n",
            "Melhor acurácia: 0.54970839960615\n"
          ]
        }
      ]
    },
    {
      "cell_type": "code",
      "source": [
        "y_rf_final=rf_final.predict(x_sub)\n",
        "mc_final=cm(y_sub, y_rf_final)\n",
        "mcd_final=ConfusionMatrixDisplay(mc_final, display_labels=['CLARA','TURVA','ESCURA'])\n",
        "mcd_final.plot()"
      ],
      "metadata": {
        "colab": {
          "base_uri": "https://localhost:8080/",
          "height": 570
        },
        "id": "JJvlqt-mcaF7",
        "outputId": "c9aa06ae-d48b-409d-bd39-884f6bd321ac"
      },
      "execution_count": 46,
      "outputs": [
        {
          "output_type": "execute_result",
          "data": {
            "text/plain": [
              "<sklearn.metrics._plot.confusion_matrix.ConfusionMatrixDisplay at 0x7fd2a9f4d550>"
            ]
          },
          "metadata": {},
          "execution_count": 46
        },
        {
          "output_type": "display_data",
          "data": {
            "text/plain": [
              "<Figure size 1152x648 with 2 Axes>"
            ],
            "image/png": "[encoded data removed]"
          },
          "metadata": {}
        }
      ]
    },
    {
      "cell_type": "markdown",
      "source": [
        "### Exportação do Modelo"
      ],
      "metadata": {
        "id": "F9JR1P06ca3s"
      }
    },
    {
      "cell_type": "code",
      "source": [
        "# salvar modelo\n",
        "import pickle\n",
        "# salvar o modelo RandomForest (RF) no arquivo dessalgadora.pkl\n",
        "with open('dessalgadora.pkl', 'wb') as file:\n",
        "    pickle.dump(rf_final, file)"
      ],
      "metadata": {
        "id": "9jSpIACBccsw"
      },
      "execution_count": 47,
      "outputs": []
    },
    {
      "cell_type": "code",
      "source": [],
      "metadata": {
        "id": "o2ELSVfHdp04"
      },
      "execution_count": null,
      "outputs": []
    }
  ]
}